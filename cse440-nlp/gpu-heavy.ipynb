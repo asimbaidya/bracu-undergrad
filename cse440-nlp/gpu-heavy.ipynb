{
 "cells": [
  {
   "cell_type": "markdown",
   "id": "0b178c28",
   "metadata": {
    "execution": {
     "iopub.execute_input": "2023-09-05T10:55:56.273872Z",
     "iopub.status.busy": "2023-09-05T10:55:56.273096Z",
     "iopub.status.idle": "2023-09-05T10:55:56.280329Z",
     "shell.execute_reply": "2023-09-05T10:55:56.278855Z",
     "shell.execute_reply.started": "2023-09-05T10:55:56.273837Z"
    },
    "papermill": {
     "duration": 0.010601,
     "end_time": "2023-09-05T11:24:12.661022",
     "exception": false,
     "start_time": "2023-09-05T11:24:12.650421",
     "status": "completed"
    },
    "tags": []
   },
   "source": [
    "\n",
    "<h1 style=\"font-size:5em;color:red;background-color:black;padding:3em 1em;;text-align:center;font-family:mono;font-weight:900;\"> 🗯OffensEval 2019🗯<h1>\n"
   ]
  },
  {
   "cell_type": "code",
   "execution_count": 1,
   "id": "2c0aa074",
   "metadata": {
    "_cell_guid": "b1076dfc-b9ad-4769-8c92-a6c4dae69d19",
    "_uuid": "8f2839f25d086af736a60e9eeb907d3b93b6e0e5",
    "execution": {
     "iopub.execute_input": "2023-09-05T11:24:12.679751Z",
     "iopub.status.busy": "2023-09-05T11:24:12.679393Z",
     "iopub.status.idle": "2023-09-05T11:24:13.296843Z",
     "shell.execute_reply": "2023-09-05T11:24:13.294526Z"
    },
    "papermill": {
     "duration": 0.629883,
     "end_time": "2023-09-05T11:24:13.299093",
     "exception": false,
     "start_time": "2023-09-05T11:24:12.669210",
     "status": "completed"
    },
    "tags": []
   },
   "outputs": [
    {
     "name": "stdout",
     "output_type": "stream",
     "text": [
      "/kaggle/input/olid-dataset/olid-annotation.txt\n",
      "/kaggle/input/olid-dataset/testset-levela.tsv\n",
      "/kaggle/input/olid-dataset/olid-training-v1.0.tsv\n",
      "/kaggle/input/olid-dataset/labels-levelc.csv\n",
      "/kaggle/input/olid-dataset/README.txt\n",
      "/kaggle/input/olid-dataset/labels-levelb.csv\n",
      "/kaggle/input/olid-dataset/testset-levelc.tsv\n",
      "/kaggle/input/olid-dataset/labels-levela.csv\n",
      "/kaggle/input/olid-dataset/testset-levelb.tsv\n"
     ]
    }
   ],
   "source": [
    "# boilerplate code provided by keggle\n",
    "\n",
    "import numpy as np # linear algebra\n",
    "import pandas as pd # data processing, CSV file I/O (e.g. pd.read_csv)\n",
    "import os\n",
    "for dirname, _, filenames in os.walk('/kaggle/input'):\n",
    "    for filename in filenames:\n",
    "        print(os.path.join(dirname, filename))"
   ]
  },
  {
   "cell_type": "code",
   "execution_count": 2,
   "id": "957ca127",
   "metadata": {
    "execution": {
     "iopub.execute_input": "2023-09-05T11:24:13.316970Z",
     "iopub.status.busy": "2023-09-05T11:24:13.316567Z",
     "iopub.status.idle": "2023-09-05T11:24:26.549268Z",
     "shell.execute_reply": "2023-09-05T11:24:26.548178Z"
    },
    "papermill": {
     "duration": 13.24448,
     "end_time": "2023-09-05T11:24:26.551886",
     "exception": false,
     "start_time": "2023-09-05T11:24:13.307406",
     "status": "completed"
    },
    "tags": []
   },
   "outputs": [
    {
     "name": "stdout",
     "output_type": "stream",
     "text": [
      "Collecting torchsummary\r\n",
      "  Downloading torchsummary-1.5.1-py3-none-any.whl (2.8 kB)\r\n",
      "Installing collected packages: torchsummary\r\n",
      "Successfully installed torchsummary-1.5.1\r\n"
     ]
    }
   ],
   "source": [
    "!pip3 install torchsummary"
   ]
  },
  {
   "cell_type": "code",
   "execution_count": 3,
   "id": "714ef5da",
   "metadata": {
    "execution": {
     "iopub.execute_input": "2023-09-05T11:24:26.570923Z",
     "iopub.status.busy": "2023-09-05T11:24:26.570533Z",
     "iopub.status.idle": "2023-09-05T11:24:39.120983Z",
     "shell.execute_reply": "2023-09-05T11:24:39.120012Z"
    },
    "papermill": {
     "duration": 12.562742,
     "end_time": "2023-09-05T11:24:39.123514",
     "exception": false,
     "start_time": "2023-09-05T11:24:26.560772",
     "status": "completed"
    },
    "tags": []
   },
   "outputs": [
    {
     "name": "stderr",
     "output_type": "stream",
     "text": [
      "/opt/conda/lib/python3.10/site-packages/scipy/__init__.py:146: UserWarning: A NumPy version >=1.16.5 and <1.23.0 is required for this version of SciPy (detected version 1.23.5\n",
      "  warnings.warn(f\"A NumPy version >={np_minversion} and <{np_maxversion}\"\n"
     ]
    }
   ],
   "source": [
    "import torch\n",
    "from transformers import BertTokenizer, BertForSequenceClassification\n",
    "from torch.utils.data import DataLoader, TensorDataset\n",
    "from sklearn.model_selection import train_test_split\n",
    "from sklearn.metrics import classification_report\n",
    "from torch.optim import AdamW\n",
    "import seaborn as sns\n",
    "from torchsummary import summary\n",
    "import warnings\n",
    "warnings.filterwarnings('ignore') "
   ]
  },
  {
   "cell_type": "markdown",
   "id": "d7fb34dc",
   "metadata": {
    "execution": {
     "iopub.execute_input": "2023-09-05T10:56:35.518814Z",
     "iopub.status.busy": "2023-09-05T10:56:35.517750Z",
     "iopub.status.idle": "2023-09-05T10:56:35.525667Z",
     "shell.execute_reply": "2023-09-05T10:56:35.524358Z",
     "shell.execute_reply.started": "2023-09-05T10:56:35.518769Z"
    },
    "papermill": {
     "duration": 0.008505,
     "end_time": "2023-09-05T11:24:39.140863",
     "exception": false,
     "start_time": "2023-09-05T11:24:39.132358",
     "status": "completed"
    },
    "tags": []
   },
   "source": [
    "<h1 style=\"font-size:2em;color:red;background-color:black;padding:1em 1em;;text-align:center;font-family:mono;font-weight:900;\"> 📂 Reading Input<h1>"
   ]
  },
  {
   "cell_type": "code",
   "execution_count": 4,
   "id": "1248436a",
   "metadata": {
    "execution": {
     "iopub.execute_input": "2023-09-05T11:24:39.158999Z",
     "iopub.status.busy": "2023-09-05T11:24:39.158680Z",
     "iopub.status.idle": "2023-09-05T11:24:39.258813Z",
     "shell.execute_reply": "2023-09-05T11:24:39.257862Z"
    },
    "papermill": {
     "duration": 0.111783,
     "end_time": "2023-09-05T11:24:39.261086",
     "exception": false,
     "start_time": "2023-09-05T11:24:39.149303",
     "status": "completed"
    },
    "tags": []
   },
   "outputs": [
    {
     "data": {
      "text/html": [
       "<div>\n",
       "<style scoped>\n",
       "    .dataframe tbody tr th:only-of-type {\n",
       "        vertical-align: middle;\n",
       "    }\n",
       "\n",
       "    .dataframe tbody tr th {\n",
       "        vertical-align: top;\n",
       "    }\n",
       "\n",
       "    .dataframe thead th {\n",
       "        text-align: right;\n",
       "    }\n",
       "</style>\n",
       "<table border=\"1\" class=\"dataframe\">\n",
       "  <thead>\n",
       "    <tr style=\"text-align: right;\">\n",
       "      <th></th>\n",
       "      <th>id</th>\n",
       "      <th>tweet</th>\n",
       "      <th>subtask_a</th>\n",
       "      <th>subtask_b</th>\n",
       "      <th>subtask_c</th>\n",
       "    </tr>\n",
       "  </thead>\n",
       "  <tbody>\n",
       "    <tr>\n",
       "      <th>0</th>\n",
       "      <td>86426</td>\n",
       "      <td>@USER She should ask a few native Americans wh...</td>\n",
       "      <td>OFF</td>\n",
       "      <td>UNT</td>\n",
       "      <td>NaN</td>\n",
       "    </tr>\n",
       "    <tr>\n",
       "      <th>1</th>\n",
       "      <td>90194</td>\n",
       "      <td>@USER @USER Go home you’re drunk!!! @USER #MAG...</td>\n",
       "      <td>OFF</td>\n",
       "      <td>TIN</td>\n",
       "      <td>IND</td>\n",
       "    </tr>\n",
       "    <tr>\n",
       "      <th>2</th>\n",
       "      <td>16820</td>\n",
       "      <td>Amazon is investigating Chinese employees who ...</td>\n",
       "      <td>NOT</td>\n",
       "      <td>NaN</td>\n",
       "      <td>NaN</td>\n",
       "    </tr>\n",
       "    <tr>\n",
       "      <th>3</th>\n",
       "      <td>62688</td>\n",
       "      <td>@USER Someone should'veTaken\" this piece of sh...</td>\n",
       "      <td>OFF</td>\n",
       "      <td>UNT</td>\n",
       "      <td>NaN</td>\n",
       "    </tr>\n",
       "    <tr>\n",
       "      <th>4</th>\n",
       "      <td>43605</td>\n",
       "      <td>@USER @USER Obama wanted liberals &amp;amp; illega...</td>\n",
       "      <td>NOT</td>\n",
       "      <td>NaN</td>\n",
       "      <td>NaN</td>\n",
       "    </tr>\n",
       "  </tbody>\n",
       "</table>\n",
       "</div>"
      ],
      "text/plain": [
       "      id                                              tweet subtask_a  \\\n",
       "0  86426  @USER She should ask a few native Americans wh...       OFF   \n",
       "1  90194  @USER @USER Go home you’re drunk!!! @USER #MAG...       OFF   \n",
       "2  16820  Amazon is investigating Chinese employees who ...       NOT   \n",
       "3  62688  @USER Someone should'veTaken\" this piece of sh...       OFF   \n",
       "4  43605  @USER @USER Obama wanted liberals &amp; illega...       NOT   \n",
       "\n",
       "  subtask_b subtask_c  \n",
       "0       UNT       NaN  \n",
       "1       TIN       IND  \n",
       "2       NaN       NaN  \n",
       "3       UNT       NaN  \n",
       "4       NaN       NaN  "
      ]
     },
     "execution_count": 4,
     "metadata": {},
     "output_type": "execute_result"
    }
   ],
   "source": [
    "# training data reading\n",
    "df = pd.read_csv('/kaggle/input/olid-dataset/olid-training-v1.0.tsv',sep='\\t')\n",
    "df.head()"
   ]
  },
  {
   "cell_type": "markdown",
   "id": "d8b3bd2a",
   "metadata": {
    "papermill": {
     "duration": 0.008537,
     "end_time": "2023-09-05T11:24:39.278822",
     "exception": false,
     "start_time": "2023-09-05T11:24:39.270285",
     "status": "completed"
    },
    "tags": []
   },
   "source": [
    "<h1 style=\"font-size:2em;color:red;background-color:black;padding:1em 1em;;text-align:center;font-family:mono;font-weight:900;\"> 🌊 Data Visualization<h1>"
   ]
  },
  {
   "cell_type": "code",
   "execution_count": 5,
   "id": "b7356e5c",
   "metadata": {
    "execution": {
     "iopub.execute_input": "2023-09-05T11:24:39.297523Z",
     "iopub.status.busy": "2023-09-05T11:24:39.297228Z",
     "iopub.status.idle": "2023-09-05T11:24:39.541188Z",
     "shell.execute_reply": "2023-09-05T11:24:39.540218Z"
    },
    "papermill": {
     "duration": 0.255763,
     "end_time": "2023-09-05T11:24:39.543248",
     "exception": false,
     "start_time": "2023-09-05T11:24:39.287485",
     "status": "completed"
    },
    "tags": []
   },
   "outputs": [
    {
     "data": {
      "text/plain": [
       "<Axes: xlabel='subtask_a', ylabel='count'>"
      ]
     },
     "execution_count": 5,
     "metadata": {},
     "output_type": "execute_result"
    },
    {
     "data": {
      "image/png": "[encoded data removed]",
      "text/plain": [
       "<Figure size 640x480 with 1 Axes>"
      ]
     },
     "metadata": {},
     "output_type": "display_data"
    }
   ],
   "source": [
    "sns.countplot(x='subtask_a',palette='GnBu_r',data=df)"
   ]
  },
  {
   "cell_type": "code",
   "execution_count": 6,
   "id": "6b8c618b",
   "metadata": {
    "execution": {
     "iopub.execute_input": "2023-09-05T11:24:39.564007Z",
     "iopub.status.busy": "2023-09-05T11:24:39.563228Z",
     "iopub.status.idle": "2023-09-05T11:24:39.792657Z",
     "shell.execute_reply": "2023-09-05T11:24:39.791757Z"
    },
    "papermill": {
     "duration": 0.241932,
     "end_time": "2023-09-05T11:24:39.794927",
     "exception": false,
     "start_time": "2023-09-05T11:24:39.552995",
     "status": "completed"
    },
    "tags": []
   },
   "outputs": [
    {
     "data": {
      "text/plain": [
       "<Axes: xlabel='subtask_b', ylabel='count'>"
      ]
     },
     "execution_count": 6,
     "metadata": {},
     "output_type": "execute_result"
    },
    {
     "data": {
      "image/png": "[encoded data removed]",
      "text/plain": [
       "<Figure size 640x480 with 1 Axes>"
      ]
     },
     "metadata": {},
     "output_type": "display_data"
    }
   ],
   "source": [
    "sns.countplot(x='subtask_b',palette='GnBu_r',data=df)"
   ]
  },
  {
   "cell_type": "code",
   "execution_count": 7,
   "id": "1bfdcedc",
   "metadata": {
    "execution": {
     "iopub.execute_input": "2023-09-05T11:24:39.815792Z",
     "iopub.status.busy": "2023-09-05T11:24:39.815502Z",
     "iopub.status.idle": "2023-09-05T11:24:40.033447Z",
     "shell.execute_reply": "2023-09-05T11:24:40.032551Z"
    },
    "papermill": {
     "duration": 0.230969,
     "end_time": "2023-09-05T11:24:40.035668",
     "exception": false,
     "start_time": "2023-09-05T11:24:39.804699",
     "status": "completed"
    },
    "tags": []
   },
   "outputs": [
    {
     "data": {
      "text/plain": [
       "<Axes: xlabel='subtask_c', ylabel='count'>"
      ]
     },
     "execution_count": 7,
     "metadata": {},
     "output_type": "execute_result"
    },
    {
     "data": {
      "image/png": "[encoded data removed]",
      "text/plain": [
       "<Figure size 640x480 with 1 Axes>"
      ]
     },
     "metadata": {},
     "output_type": "display_data"
    }
   ],
   "source": [
    "sns.countplot(x='subtask_c',palette='GnBu_r',data=df)"
   ]
  },
  {
   "cell_type": "markdown",
   "id": "4b56f2a2",
   "metadata": {
    "execution": {
     "iopub.execute_input": "2023-09-05T10:58:59.133858Z",
     "iopub.status.busy": "2023-09-05T10:58:59.133183Z",
     "iopub.status.idle": "2023-09-05T10:58:59.139948Z",
     "shell.execute_reply": "2023-09-05T10:58:59.138662Z",
     "shell.execute_reply.started": "2023-09-05T10:58:59.133824Z"
    },
    "papermill": {
     "duration": 0.009972,
     "end_time": "2023-09-05T11:24:40.056049",
     "exception": false,
     "start_time": "2023-09-05T11:24:40.046077",
     "status": "completed"
    },
    "tags": []
   },
   "source": [
    "<h1 style=\"font-size:2em;color:red;background-color:black;padding:1em 1em;;text-align:center;font-family:mono;font-weight:900;\"> 🔃 Data Preprocess<h1>"
   ]
  },
  {
   "cell_type": "code",
   "execution_count": 8,
   "id": "2e5494f9",
   "metadata": {
    "execution": {
     "iopub.execute_input": "2023-09-05T11:24:40.077409Z",
     "iopub.status.busy": "2023-09-05T11:24:40.077114Z",
     "iopub.status.idle": "2023-09-05T11:24:40.091426Z",
     "shell.execute_reply": "2023-09-05T11:24:40.090575Z"
    },
    "papermill": {
     "duration": 0.027197,
     "end_time": "2023-09-05T11:24:40.093361",
     "exception": false,
     "start_time": "2023-09-05T11:24:40.066164",
     "status": "completed"
    },
    "tags": []
   },
   "outputs": [],
   "source": [
    "df['label_a'] = df['subtask_a'].replace({'NOT': 0, 'OFF': 1})"
   ]
  },
  {
   "cell_type": "markdown",
   "id": "0bc6831a",
   "metadata": {
    "execution": {
     "iopub.execute_input": "2023-09-05T11:00:16.271993Z",
     "iopub.status.busy": "2023-09-05T11:00:16.271298Z",
     "iopub.status.idle": "2023-09-05T11:00:16.278819Z",
     "shell.execute_reply": "2023-09-05T11:00:16.277337Z",
     "shell.execute_reply.started": "2023-09-05T11:00:16.271959Z"
    },
    "papermill": {
     "duration": 0.009825,
     "end_time": "2023-09-05T11:24:40.113279",
     "exception": false,
     "start_time": "2023-09-05T11:24:40.103454",
     "status": "completed"
    },
    "tags": []
   },
   "source": [
    "<h1 style=\"font-size:2em;color:red;background-color:black;padding:1em 1em;;text-align:center;font-family:mono;font-weight:900;\"> Spliting <h1>"
   ]
  },
  {
   "cell_type": "code",
   "execution_count": 9,
   "id": "1186b525",
   "metadata": {
    "execution": {
     "iopub.execute_input": "2023-09-05T11:24:40.134415Z",
     "iopub.status.busy": "2023-09-05T11:24:40.134140Z",
     "iopub.status.idle": "2023-09-05T11:24:40.142108Z",
     "shell.execute_reply": "2023-09-05T11:24:40.141273Z"
    },
    "papermill": {
     "duration": 0.02076,
     "end_time": "2023-09-05T11:24:40.144021",
     "exception": false,
     "start_time": "2023-09-05T11:24:40.123261",
     "status": "completed"
    },
    "tags": []
   },
   "outputs": [],
   "source": [
    "# Split the data into training and validation sets\n",
    "train_df, val_df = train_test_split(df, test_size=0.2, random_state=42)"
   ]
  },
  {
   "cell_type": "code",
   "execution_count": 10,
   "id": "a336d5c2",
   "metadata": {
    "execution": {
     "iopub.execute_input": "2023-09-05T11:24:40.165195Z",
     "iopub.status.busy": "2023-09-05T11:24:40.164936Z",
     "iopub.status.idle": "2023-09-05T11:24:59.836281Z",
     "shell.execute_reply": "2023-09-05T11:24:59.835340Z"
    },
    "papermill": {
     "duration": 19.684323,
     "end_time": "2023-09-05T11:24:59.838494",
     "exception": false,
     "start_time": "2023-09-05T11:24:40.154171",
     "status": "completed"
    },
    "tags": []
   },
   "outputs": [
    {
     "data": {
      "application/vnd.jupyter.widget-view+json": {
       "model_id": "ad7a1885c67d4ccb9ef337d71af0b367",
       "version_major": 2,
       "version_minor": 0
      },
      "text/plain": [
       "Downloading (…)solve/main/vocab.txt:   0%|          | 0.00/232k [00:00<?, ?B/s]"
      ]
     },
     "metadata": {},
     "output_type": "display_data"
    },
    {
     "data": {
      "application/vnd.jupyter.widget-view+json": {
       "model_id": "d9b2bc12de974c4ca36716800199becc",
       "version_major": 2,
       "version_minor": 0
      },
      "text/plain": [
       "Downloading (…)okenizer_config.json:   0%|          | 0.00/28.0 [00:00<?, ?B/s]"
      ]
     },
     "metadata": {},
     "output_type": "display_data"
    },
    {
     "data": {
      "application/vnd.jupyter.widget-view+json": {
       "model_id": "a83060bafb1c4cd18b3299ebf89ed843",
       "version_major": 2,
       "version_minor": 0
      },
      "text/plain": [
       "Downloading (…)lve/main/config.json:   0%|          | 0.00/570 [00:00<?, ?B/s]"
      ]
     },
     "metadata": {},
     "output_type": "display_data"
    },
    {
     "data": {
      "application/vnd.jupyter.widget-view+json": {
       "model_id": "b2af2973f722471b87301b966ed75dc4",
       "version_major": 2,
       "version_minor": 0
      },
      "text/plain": [
       "Downloading model.safetensors:   0%|          | 0.00/440M [00:00<?, ?B/s]"
      ]
     },
     "metadata": {},
     "output_type": "display_data"
    },
    {
     "name": "stderr",
     "output_type": "stream",
     "text": [
      "Some weights of BertForSequenceClassification were not initialized from the model checkpoint at bert-base-uncased and are newly initialized: ['classifier.bias', 'classifier.weight']\n",
      "You should probably TRAIN this model on a down-stream task to be able to use it for predictions and inference.\n"
     ]
    }
   ],
   "source": [
    "# loading the pre-trained BERT model and tokenizer\n",
    "model_name = 'bert-base-uncased'\n",
    "tokenizer = BertTokenizer.from_pretrained(model_name)\n",
    "model = BertForSequenceClassification.from_pretrained(model_name, num_labels=2)"
   ]
  },
  {
   "cell_type": "code",
   "execution_count": 11,
   "id": "b5f2ca17",
   "metadata": {
    "execution": {
     "iopub.execute_input": "2023-09-05T11:24:59.862041Z",
     "iopub.status.busy": "2023-09-05T11:24:59.861721Z",
     "iopub.status.idle": "2023-09-05T11:25:13.599190Z",
     "shell.execute_reply": "2023-09-05T11:25:13.598181Z"
    },
    "papermill": {
     "duration": 13.75189,
     "end_time": "2023-09-05T11:25:13.601743",
     "exception": false,
     "start_time": "2023-09-05T11:24:59.849853",
     "status": "completed"
    },
    "tags": []
   },
   "outputs": [],
   "source": [
    "# tokenize the input data for feeding the model\n",
    "train_tokens = tokenizer(list(train_df['tweet']), padding=True, truncation=True, return_tensors='pt', max_length=128)\n",
    "val_tokens = tokenizer(list(val_df['tweet']), padding=True, truncation=True, return_tensors='pt', max_length=128)"
   ]
  },
  {
   "cell_type": "code",
   "execution_count": 12,
   "id": "a44faccb",
   "metadata": {
    "execution": {
     "iopub.execute_input": "2023-09-05T11:25:13.626046Z",
     "iopub.status.busy": "2023-09-05T11:25:13.625716Z",
     "iopub.status.idle": "2023-09-05T11:25:13.634788Z",
     "shell.execute_reply": "2023-09-05T11:25:13.633855Z"
    },
    "papermill": {
     "duration": 0.023222,
     "end_time": "2023-09-05T11:25:13.636856",
     "exception": false,
     "start_time": "2023-09-05T11:25:13.613634",
     "status": "completed"
    },
    "tags": []
   },
   "outputs": [],
   "source": [
    "# converting labels to tensors\n",
    "train_labels = torch.tensor(list(train_df['label_a']), dtype=torch.long)\n",
    "val_labels = torch.tensor(list(val_df['label_a']), dtype=torch.long)"
   ]
  },
  {
   "cell_type": "code",
   "execution_count": 13,
   "id": "7c5a7726",
   "metadata": {
    "execution": {
     "iopub.execute_input": "2023-09-05T11:25:13.662844Z",
     "iopub.status.busy": "2023-09-05T11:25:13.662562Z",
     "iopub.status.idle": "2023-09-05T11:25:13.667124Z",
     "shell.execute_reply": "2023-09-05T11:25:13.666247Z"
    },
    "papermill": {
     "duration": 0.019291,
     "end_time": "2023-09-05T11:25:13.669067",
     "exception": false,
     "start_time": "2023-09-05T11:25:13.649776",
     "status": "completed"
    },
    "tags": []
   },
   "outputs": [],
   "source": [
    "# creating DataLoader for training and validation data\n",
    "train_dataset = TensorDataset(train_tokens['input_ids'], train_tokens['attention_mask'], train_labels)\n",
    "val_dataset = TensorDataset(val_tokens['input_ids'], val_tokens['attention_mask'], val_labels)"
   ]
  },
  {
   "cell_type": "markdown",
   "id": "9bcde52c",
   "metadata": {
    "papermill": {
     "duration": 0.010935,
     "end_time": "2023-09-05T11:25:13.690821",
     "exception": false,
     "start_time": "2023-09-05T11:25:13.679886",
     "status": "completed"
    },
    "tags": []
   },
   "source": [
    "<h1 style=\"font-size:2em;color:red;background-color:black;padding:1em 1em;;text-align:center;font-family:mono;font-weight:900;\"> Model <h1>"
   ]
  },
  {
   "cell_type": "code",
   "execution_count": 14,
   "id": "9d9df3a5",
   "metadata": {
    "execution": {
     "iopub.execute_input": "2023-09-05T11:25:13.714120Z",
     "iopub.status.busy": "2023-09-05T11:25:13.713289Z",
     "iopub.status.idle": "2023-09-05T11:25:13.719480Z",
     "shell.execute_reply": "2023-09-05T11:25:13.718646Z"
    },
    "papermill": {
     "duration": 0.01973,
     "end_time": "2023-09-05T11:25:13.721399",
     "exception": false,
     "start_time": "2023-09-05T11:25:13.701669",
     "status": "completed"
    },
    "tags": []
   },
   "outputs": [],
   "source": [
    "# Define optimizer and loss function\n",
    "optimizer = AdamW(model.parameters(), lr=1e-5)\n",
    "loss_fn = torch.nn.CrossEntropyLoss()"
   ]
  },
  {
   "cell_type": "code",
   "execution_count": 15,
   "id": "e9be9836",
   "metadata": {
    "execution": {
     "iopub.execute_input": "2023-09-05T11:25:13.744546Z",
     "iopub.status.busy": "2023-09-05T11:25:13.743754Z",
     "iopub.status.idle": "2023-09-05T11:25:13.796158Z",
     "shell.execute_reply": "2023-09-05T11:25:13.795254Z"
    },
    "papermill": {
     "duration": 0.065988,
     "end_time": "2023-09-05T11:25:13.798148",
     "exception": false,
     "start_time": "2023-09-05T11:25:13.732160",
     "status": "completed"
    },
    "tags": []
   },
   "outputs": [
    {
     "name": "stdout",
     "output_type": "stream",
     "text": [
      "Cuda .... ⏩⏩⏩\n"
     ]
    }
   ],
   "source": [
    "# CUDA\n",
    "if torch.cuda.is_available():\n",
    "    print(\"Cuda .... ⏩⏩⏩\")\n",
    "else:\n",
    "    print(\"🦥🦥🦥\")"
   ]
  },
  {
   "cell_type": "markdown",
   "id": "be9bcd78",
   "metadata": {
    "execution": {
     "iopub.execute_input": "2023-09-05T11:00:56.131173Z",
     "iopub.status.busy": "2023-09-05T11:00:56.130784Z",
     "iopub.status.idle": "2023-09-05T11:00:56.138184Z",
     "shell.execute_reply": "2023-09-05T11:00:56.136949Z",
     "shell.execute_reply.started": "2023-09-05T11:00:56.131140Z"
    },
    "papermill": {
     "duration": 0.010919,
     "end_time": "2023-09-05T11:25:13.820035",
     "exception": false,
     "start_time": "2023-09-05T11:25:13.809116",
     "status": "completed"
    },
    "tags": []
   },
   "source": [
    "<h1 style=\"font-size:2em;color:red;background-color:black;padding:1em 1em;;text-align:center;font-family:mono;font-weight:900;\"> 🚃 Training Model<h1>"
   ]
  },
  {
   "cell_type": "code",
   "execution_count": 16,
   "id": "182ed9d0",
   "metadata": {
    "execution": {
     "iopub.execute_input": "2023-09-05T11:25:13.843598Z",
     "iopub.status.busy": "2023-09-05T11:25:13.843314Z",
     "iopub.status.idle": "2023-09-05T11:40:16.672978Z",
     "shell.execute_reply": "2023-09-05T11:40:16.671947Z"
    },
    "papermill": {
     "duration": 902.851705,
     "end_time": "2023-09-05T11:40:16.682991",
     "exception": false,
     "start_time": "2023-09-05T11:25:13.831286",
     "status": "completed"
    },
    "tags": []
   },
   "outputs": [
    {
     "name": "stdout",
     "output_type": "stream",
     "text": [
      "Epoch 1/7\n",
      "Train Loss: 0.4932 | Validation Loss: 0.4453\n",
      "              precision    recall  f1-score   support\n",
      "\n",
      "           0       0.81      0.90      0.85      1733\n",
      "           1       0.75      0.60      0.67       915\n",
      "\n",
      "    accuracy                           0.79      2648\n",
      "   macro avg       0.78      0.75      0.76      2648\n",
      "weighted avg       0.79      0.79      0.79      2648\n",
      "\n",
      "⚔️⚔️⚔️⚔️⚔️⚔️⚔️⚔️⚔️⚔️⚔️⚔️⚔️⚔️⚔️⚔️⚔️⚔️⚔️⚔️\n",
      "Epoch 2/7\n",
      "Train Loss: 0.3882 | Validation Loss: 0.4630\n",
      "              precision    recall  f1-score   support\n",
      "\n",
      "           0       0.86      0.81      0.83      1733\n",
      "           1       0.67      0.75      0.71       915\n",
      "\n",
      "    accuracy                           0.79      2648\n",
      "   macro avg       0.77      0.78      0.77      2648\n",
      "weighted avg       0.79      0.79      0.79      2648\n",
      "\n",
      "⚔️⚔️⚔️⚔️⚔️⚔️⚔️⚔️⚔️⚔️⚔️⚔️⚔️⚔️⚔️⚔️⚔️⚔️⚔️⚔️\n",
      "Epoch 3/7\n",
      "Train Loss: 0.3256 | Validation Loss: 0.4619\n",
      "              precision    recall  f1-score   support\n",
      "\n",
      "           0       0.84      0.86      0.85      1733\n",
      "           1       0.72      0.68      0.70       915\n",
      "\n",
      "    accuracy                           0.80      2648\n",
      "   macro avg       0.78      0.77      0.78      2648\n",
      "weighted avg       0.80      0.80      0.80      2648\n",
      "\n",
      "⚔️⚔️⚔️⚔️⚔️⚔️⚔️⚔️⚔️⚔️⚔️⚔️⚔️⚔️⚔️⚔️⚔️⚔️⚔️⚔️\n",
      "Epoch 4/7\n",
      "Train Loss: 0.2440 | Validation Loss: 0.5623\n",
      "              precision    recall  f1-score   support\n",
      "\n",
      "           0       0.82      0.90      0.86      1733\n",
      "           1       0.76      0.63      0.69       915\n",
      "\n",
      "    accuracy                           0.81      2648\n",
      "   macro avg       0.79      0.76      0.78      2648\n",
      "weighted avg       0.80      0.81      0.80      2648\n",
      "\n",
      "⚔️⚔️⚔️⚔️⚔️⚔️⚔️⚔️⚔️⚔️⚔️⚔️⚔️⚔️⚔️⚔️⚔️⚔️⚔️⚔️\n",
      "Epoch 5/7\n",
      "Train Loss: 0.1714 | Validation Loss: 0.5778\n",
      "              precision    recall  f1-score   support\n",
      "\n",
      "           0       0.84      0.83      0.83      1733\n",
      "           1       0.68      0.70      0.69       915\n",
      "\n",
      "    accuracy                           0.78      2648\n",
      "   macro avg       0.76      0.77      0.76      2648\n",
      "weighted avg       0.79      0.78      0.79      2648\n",
      "\n",
      "⚔️⚔️⚔️⚔️⚔️⚔️⚔️⚔️⚔️⚔️⚔️⚔️⚔️⚔️⚔️⚔️⚔️⚔️⚔️⚔️\n",
      "Epoch 6/7\n",
      "Train Loss: 0.1167 | Validation Loss: 0.7668\n",
      "              precision    recall  f1-score   support\n",
      "\n",
      "           0       0.82      0.87      0.85      1733\n",
      "           1       0.73      0.64      0.68       915\n",
      "\n",
      "    accuracy                           0.79      2648\n",
      "   macro avg       0.78      0.76      0.77      2648\n",
      "weighted avg       0.79      0.79      0.79      2648\n",
      "\n",
      "⚔️⚔️⚔️⚔️⚔️⚔️⚔️⚔️⚔️⚔️⚔️⚔️⚔️⚔️⚔️⚔️⚔️⚔️⚔️⚔️\n",
      "Epoch 7/7\n",
      "Train Loss: 0.0782 | Validation Loss: 0.8001\n",
      "              precision    recall  f1-score   support\n",
      "\n",
      "           0       0.84      0.83      0.83      1733\n",
      "           1       0.68      0.70      0.69       915\n",
      "\n",
      "    accuracy                           0.78      2648\n",
      "   macro avg       0.76      0.76      0.76      2648\n",
      "weighted avg       0.79      0.78      0.79      2648\n",
      "\n",
      "⚔️⚔️⚔️⚔️⚔️⚔️⚔️⚔️⚔️⚔️⚔️⚔️⚔️⚔️⚔️⚔️⚔️⚔️⚔️⚔️\n"
     ]
    }
   ],
   "source": [
    "batch_size = 32\n",
    "\n",
    "train_loader = DataLoader(train_dataset, batch_size=batch_size, shuffle=True)\n",
    "val_loader = DataLoader(val_dataset, batch_size=batch_size)\n",
    "\n",
    "device = torch.device('cuda' if torch.cuda.is_available() else 'cpu')\n",
    "model.to(device)\n",
    "\n",
    "# training loop\n",
    "num_epochs = 7\n",
    "\n",
    "for epoch in range(num_epochs):\n",
    "    model.train()\n",
    "    total_loss = 0\n",
    "    for batch in train_loader:\n",
    "        input_ids, attention_mask, labels = batch\n",
    "        input_ids, attention_mask, labels = input_ids.to(device), attention_mask.to(device), labels.to(device)\n",
    "\n",
    "        optimizer.zero_grad()\n",
    "        outputs = model(input_ids, attention_mask=attention_mask, labels=labels)\n",
    "        loss = outputs.loss\n",
    "        total_loss += loss.item()\n",
    "        \n",
    "        loss.backward()\n",
    "        optimizer.step()\n",
    "    \n",
    "    # calculate average training loss for this epoch\n",
    "    avg_train_loss = total_loss / len(train_loader)\n",
    "    \n",
    "    # validation\n",
    "    model.eval()\n",
    "    val_loss = 0\n",
    "    val_preds = []\n",
    "    val_targets = []\n",
    "    with torch.no_grad():\n",
    "        for batch in val_loader:\n",
    "            input_ids, attention_mask, labels = batch\n",
    "            input_ids, attention_mask, labels = input_ids.to(device), attention_mask.to(device), labels.to(device)\n",
    "\n",
    "            outputs = model(input_ids, attention_mask=attention_mask, labels=labels)\n",
    "            val_loss += outputs.loss.item()\n",
    "\n",
    "            logits = outputs.logits\n",
    "            preds = torch.argmax(logits, dim=1).cpu().numpy()\n",
    "            targets = labels.cpu().numpy()\n",
    "\n",
    "            val_preds.extend(preds)\n",
    "            val_targets.extend(targets)\n",
    "    \n",
    "    avg_val_loss = val_loss / len(val_loader)\n",
    "    \n",
    "    # print training and validation metrics for each epoch\n",
    "    print(f\"Epoch {epoch+1}/{num_epochs}\")\n",
    "    print(f\"Train Loss: {avg_train_loss:.4f} | Validation Loss: {avg_val_loss:.4f}\")\n",
    "    print(classification_report(val_targets, val_preds))\n",
    "    print(\"⚔️\"*20)"
   ]
  },
  {
   "cell_type": "markdown",
   "id": "009bb396",
   "metadata": {
    "papermill": {
     "duration": 0.016357,
     "end_time": "2023-09-05T11:40:16.716135",
     "exception": false,
     "start_time": "2023-09-05T11:40:16.699778",
     "status": "completed"
    },
    "tags": []
   },
   "source": [
    "# model"
   ]
  },
  {
   "cell_type": "code",
   "execution_count": 17,
   "id": "1c2191b2",
   "metadata": {
    "execution": {
     "iopub.execute_input": "2023-09-05T11:40:16.751907Z",
     "iopub.status.busy": "2023-09-05T11:40:16.751457Z",
     "iopub.status.idle": "2023-09-05T11:40:16.763766Z",
     "shell.execute_reply": "2023-09-05T11:40:16.762935Z"
    },
    "papermill": {
     "duration": 0.034281,
     "end_time": "2023-09-05T11:40:16.767577",
     "exception": false,
     "start_time": "2023-09-05T11:40:16.733296",
     "status": "completed"
    },
    "tags": []
   },
   "outputs": [
    {
     "data": {
      "text/plain": [
       "BertForSequenceClassification(\n",
       "  (bert): BertModel(\n",
       "    (embeddings): BertEmbeddings(\n",
       "      (word_embeddings): Embedding(30522, 768, padding_idx=0)\n",
       "      (position_embeddings): Embedding(512, 768)\n",
       "      (token_type_embeddings): Embedding(2, 768)\n",
       "      (LayerNorm): LayerNorm((768,), eps=1e-12, elementwise_affine=True)\n",
       "      (dropout): Dropout(p=0.1, inplace=False)\n",
       "    )\n",
       "    (encoder): BertEncoder(\n",
       "      (layer): ModuleList(\n",
       "        (0-11): 12 x BertLayer(\n",
       "          (attention): BertAttention(\n",
       "            (self): BertSelfAttention(\n",
       "              (query): Linear(in_features=768, out_features=768, bias=True)\n",
       "              (key): Linear(in_features=768, out_features=768, bias=True)\n",
       "              (value): Linear(in_features=768, out_features=768, bias=True)\n",
       "              (dropout): Dropout(p=0.1, inplace=False)\n",
       "            )\n",
       "            (output): BertSelfOutput(\n",
       "              (dense): Linear(in_features=768, out_features=768, bias=True)\n",
       "              (LayerNorm): LayerNorm((768,), eps=1e-12, elementwise_affine=True)\n",
       "              (dropout): Dropout(p=0.1, inplace=False)\n",
       "            )\n",
       "          )\n",
       "          (intermediate): BertIntermediate(\n",
       "            (dense): Linear(in_features=768, out_features=3072, bias=True)\n",
       "            (intermediate_act_fn): GELUActivation()\n",
       "          )\n",
       "          (output): BertOutput(\n",
       "            (dense): Linear(in_features=3072, out_features=768, bias=True)\n",
       "            (LayerNorm): LayerNorm((768,), eps=1e-12, elementwise_affine=True)\n",
       "            (dropout): Dropout(p=0.1, inplace=False)\n",
       "          )\n",
       "        )\n",
       "      )\n",
       "    )\n",
       "    (pooler): BertPooler(\n",
       "      (dense): Linear(in_features=768, out_features=768, bias=True)\n",
       "      (activation): Tanh()\n",
       "    )\n",
       "  )\n",
       "  (dropout): Dropout(p=0.1, inplace=False)\n",
       "  (classifier): Linear(in_features=768, out_features=2, bias=True)\n",
       ")"
      ]
     },
     "execution_count": 17,
     "metadata": {},
     "output_type": "execute_result"
    }
   ],
   "source": [
    "model"
   ]
  }
 ],
 "kernelspec": {
  "display_name": "Python 3",
  "language": "python",
  "name": "python3"
 },
 "language_info": {
  "codemirror_mode": {
   "name": "ipython",
   "version": 3
  },
  "file_extension": ".py",
  "mimetype": "text/x-python",
  "name": "python",
  "nbconvert_exporter": "python",
  "pygments_lexer": "ipython3",
  "version": "3.6.4"
 },
 "metadata": {
  "kernelspec": {
   "display_name": "Python 3",
   "language": "python",
   "name": "python3"
  },
  "language_info": {
   "codemirror_mode": {
    "name": "ipython",
    "version": 3
   },
   "file_extension": ".py",
   "mimetype": "text/x-python",
   "name": "python",
   "nbconvert_exporter": "python",
   "pygments_lexer": "ipython3",
   "version": "3.10.12"
  },
  "papermill": {
   "default_parameters": {},
   "duration": 970.83,
   "end_time": "2023-09-05T11:40:20.258983",
   "environment_variables": {},
   "exception": null,
   "input_path": "__notebook__.ipynb",
   "output_path": "__notebook__.ipynb",
   "parameters": {},
   "start_time": "2023-09-05T11:24:09.428983",
   "version": "2.4.0"
  },
  "widgets": {
   "application/vnd.jupyter.widget-state+json": {
    "state": {
     "012cf012b6724b94a0dca87f8e22618e": {
      "model_module": "@jupyter-widgets/controls",
      "model_module_version": "1.5.0",
      "model_name": "HTMLModel",
      "state": {
       "_dom_classes": [],
       "_model_module": "@jupyter-widgets/controls",
       "_model_module_version": "1.5.0",
       "_model_name": "HTMLModel",
       "_view_count": null,
       "_view_module": "@jupyter-widgets/controls",
       "_view_module_version": "1.5.0",
       "_view_name": "HTMLView",
       "description": "",
       "description_tooltip": null,
       "layout": "IPY_MODEL_d457bef6483c497eb8f282ffac6505e8",
       "placeholder": "​",
       "style": "IPY_MODEL_5aa0fc0eaeab43e692acd609c50ac682",
       "value": " 570/570 [00:00&lt;00:00, 41.3kB/s]"
      }
     },
     "081102cd2b5e491984a8385911aae193": {
      "model_module": "@jupyter-widgets/controls",
      "model_module_version": "1.5.0",
      "model_name": "FloatProgressModel",
      "state": {
       "_dom_classes": [],
       "_model_module": "@jupyter-widgets/controls",
       "_model_module_version": "1.5.0",
       "_model_name": "FloatProgressModel",
       "_view_count": null,
       "_view_module": "@jupyter-widgets/controls",
       "_view_module_version": "1.5.0",
       "_view_name": "ProgressView",
       "bar_style": "success",
       "description": "",
       "description_tooltip": null,
       "layout": "IPY_MODEL_3cd500062f154f2fb5a93c3650da3aa3",
       "max": 440449768.0,
       "min": 0.0,
       "orientation": "horizontal",
       "style": "IPY_MODEL_58384f8e7cf0473799fc5dd1a7e7d50a",
       "value": 440449768.0
      }
     },
     "09e3a419d58b4a3ca1cbfd30eede3b31": {
      "model_module": "@jupyter-widgets/controls",
      "model_module_version": "1.5.0",
      "model_name": "DescriptionStyleModel",
      "state": {
       "_model_module": "@jupyter-widgets/controls",
       "_model_module_version": "1.5.0",
       "_model_name": "DescriptionStyleModel",
       "_view_count": null,
       "_view_module": "@jupyter-widgets/base",
       "_view_module_version": "1.2.0",
       "_view_name": "StyleView",
       "description_width": ""
      }
     },
     "161da068eefc47d98aa474a1e498290a": {
      "model_module": "@jupyter-widgets/controls",
      "model_module_version": "1.5.0",
      "model_name": "HTMLModel",
      "state": {
       "_dom_classes": [],
       "_model_module": "@jupyter-widgets/controls",
       "_model_module_version": "1.5.0",
       "_model_name": "HTMLModel",
       "_view_count": null,
       "_view_module": "@jupyter-widgets/controls",
       "_view_module_version": "1.5.0",
       "_view_name": "HTMLView",
       "description": "",
       "description_tooltip": null,
       "layout": "IPY_MODEL_3b8366fa7068451d877d0a7e7e4559af",
       "placeholder": "​",
       "style": "IPY_MODEL_c70684fabafa425e8e1f7563e6155cc6",
       "value": "Downloading (…)solve/main/vocab.txt: 100%"
      }
     },
     "176836060d51454d9293047ee1f4cfa2": {
      "model_module": "@jupyter-widgets/base",
      "model_module_version": "1.2.0",
      "model_name": "LayoutModel",
      "state": {
       "_model_module": "@jupyter-widgets/base",
       "_model_module_version": "1.2.0",
       "_model_name": "LayoutModel",
       "_view_count": null,
       "_view_module": "@jupyter-widgets/base",
       "_view_module_version": "1.2.0",
       "_view_name": "LayoutView",
       "align_content": null,
       "align_items": null,
       "align_self": null,
       "border": null,
       "bottom": null,
       "display": null,
       "flex": null,
       "flex_flow": null,
       "grid_area": null,
       "grid_auto_columns": null,
       "grid_auto_flow": null,
       "grid_auto_rows": null,
       "grid_column": null,
       "grid_gap": null,
       "grid_row": null,
       "grid_template_areas": null,
       "grid_template_columns": null,
       "grid_template_rows": null,
       "height": null,
       "justify_content": null,
       "justify_items": null,
       "left": null,
       "margin": null,
       "max_height": null,
       "max_width": null,
       "min_height": null,
       "min_width": null,
       "object_fit": null,
       "object_position": null,
       "order": null,
       "overflow": null,
       "overflow_x": null,
       "overflow_y": null,
       "padding": null,
       "right": null,
       "top": null,
       "visibility": null,
       "width": null
      }
     },
     "1768aa9f440946aa884d4fe8c85885b4": {
      "model_module": "@jupyter-widgets/controls",
      "model_module_version": "1.5.0",
      "model_name": "HTMLModel",
      "state": {
       "_dom_classes": [],
       "_model_module": "@jupyter-widgets/controls",
       "_model_module_version": "1.5.0",
       "_model_name": "HTMLModel",
       "_view_count": null,
       "_view_module": "@jupyter-widgets/controls",
       "_view_module_version": "1.5.0",
       "_view_name": "HTMLView",
       "description": "",
       "description_tooltip": null,
       "layout": "IPY_MODEL_b63a96bb75dd45fcad6d483f9d4981fc",
       "placeholder": "​",
       "style": "IPY_MODEL_89ed5abcacff40c1b2372a000ae54aa2",
       "value": " 440M/440M [00:15&lt;00:00, 30.8MB/s]"
      }
     },
     "1c428eb166dc49a59e12104ff4cd39fa": {
      "model_module": "@jupyter-widgets/base",
      "model_module_version": "1.2.0",
      "model_name": "LayoutModel",
      "state": {
       "_model_module": "@jupyter-widgets/base",
       "_model_module_version": "1.2.0",
       "_model_name": "LayoutModel",
       "_view_count": null,
       "_view_module": "@jupyter-widgets/base",
       "_view_module_version": "1.2.0",
       "_view_name": "LayoutView",
       "align_content": null,
       "align_items": null,
       "align_self": null,
       "border": null,
       "bottom": null,
       "display": null,
       "flex": null,
       "flex_flow": null,
       "grid_area": null,
       "grid_auto_columns": null,
       "grid_auto_flow": null,
       "grid_auto_rows": null,
       "grid_column": null,
       "grid_gap": null,
       "grid_row": null,
       "grid_template_areas": null,
       "grid_template_columns": null,
       "grid_template_rows": null,
       "height": null,
       "justify_content": null,
       "justify_items": null,
       "left": null,
       "margin": null,
       "max_height": null,
       "max_width": null,
       "min_height": null,
       "min_width": null,
       "object_fit": null,
       "object_position": null,
       "order": null,
       "overflow": null,
       "overflow_x": null,
       "overflow_y": null,
       "padding": null,
       "right": null,
       "top": null,
       "visibility": null,
       "width": null
      }
     },
     "2bf45f99de9e4ca0916b0683fbc19763": {
      "model_module": "@jupyter-widgets/base",
      "model_module_version": "1.2.0",
      "model_name": "LayoutModel",
      "state": {
       "_model_module": "@jupyter-widgets/base",
       "_model_module_version": "1.2.0",
       "_model_name": "LayoutModel",
       "_view_count": null,
       "_view_module": "@jupyter-widgets/base",
       "_view_module_version": "1.2.0",
       "_view_name": "LayoutView",
       "align_content": null,
       "align_items": null,
       "align_self": null,
       "border": null,
       "bottom": null,
       "display": null,
       "flex": null,
       "flex_flow": null,
       "grid_area": null,
       "grid_auto_columns": null,
       "grid_auto_flow": null,
       "grid_auto_rows": null,
       "grid_column": null,
       "grid_gap": null,
       "grid_row": null,
       "grid_template_areas": null,
       "grid_template_columns": null,
       "grid_template_rows": null,
       "height": null,
       "justify_content": null,
       "justify_items": null,
       "left": null,
       "margin": null,
       "max_height": null,
       "max_width": null,
       "min_height": null,
       "min_width": null,
       "object_fit": null,
       "object_position": null,
       "order": null,
       "overflow": null,
       "overflow_x": null,
       "overflow_y": null,
       "padding": null,
       "right": null,
       "top": null,
       "visibility": null,
       "width": null
      }
     },
     "3813e0c430264820a7a69a73d73dcdb9": {
      "model_module": "@jupyter-widgets/controls",
      "model_module_version": "1.5.0",
      "model_name": "HTMLModel",
      "state": {
       "_dom_classes": [],
       "_model_module": "@jupyter-widgets/controls",
       "_model_module_version": "1.5.0",
       "_model_name": "HTMLModel",
       "_view_count": null,
       "_view_module": "@jupyter-widgets/controls",
       "_view_module_version": "1.5.0",
       "_view_name": "HTMLView",
       "description": "",
       "description_tooltip": null,
       "layout": "IPY_MODEL_bc1d176a6cc14d1783dd74bd2bea8a31",
       "placeholder": "​",
       "style": "IPY_MODEL_973c0970a9994e5a890a0d0b5096952f",
       "value": "Downloading model.safetensors: 100%"
      }
     },
     "3b8366fa7068451d877d0a7e7e4559af": {
      "model_module": "@jupyter-widgets/base",
      "model_module_version": "1.2.0",
      "model_name": "LayoutModel",
      "state": {
       "_model_module": "@jupyter-widgets/base",
       "_model_module_version": "1.2.0",
       "_model_name": "LayoutModel",
       "_view_count": null,
       "_view_module": "@jupyter-widgets/base",
       "_view_module_version": "1.2.0",
       "_view_name": "LayoutView",
       "align_content": null,
       "align_items": null,
       "align_self": null,
       "border": null,
       "bottom": null,
       "display": null,
       "flex": null,
       "flex_flow": null,
       "grid_area": null,
       "grid_auto_columns": null,
       "grid_auto_flow": null,
       "grid_auto_rows": null,
       "grid_column": null,
       "grid_gap": null,
       "grid_row": null,
       "grid_template_areas": null,
       "grid_template_columns": null,
       "grid_template_rows": null,
       "height": null,
       "justify_content": null,
       "justify_items": null,
       "left": null,
       "margin": null,
       "max_height": null,
       "max_width": null,
       "min_height": null,
       "min_width": null,
       "object_fit": null,
       "object_position": null,
       "order": null,
       "overflow": null,
       "overflow_x": null,
       "overflow_y": null,
       "padding": null,
       "right": null,
       "top": null,
       "visibility": null,
       "width": null
      }
     },
     "3cd500062f154f2fb5a93c3650da3aa3": {
      "model_module": "@jupyter-widgets/base",
      "model_module_version": "1.2.0",
      "model_name": "LayoutModel",
      "state": {
       "_model_module": "@jupyter-widgets/base",
       "_model_module_version": "1.2.0",
       "_model_name": "LayoutModel",
       "_view_count": null,
       "_view_module": "@jupyter-widgets/base",
       "_view_module_version": "1.2.0",
       "_view_name": "LayoutView",
       "align_content": null,
       "align_items": null,
       "align_self": null,
       "border": null,
       "bottom": null,
       "display": null,
       "flex": null,
       "flex_flow": null,
       "grid_area": null,
       "grid_auto_columns": null,
       "grid_auto_flow": null,
       "grid_auto_rows": null,
       "grid_column": null,
       "grid_gap": null,
       "grid_row": null,
       "grid_template_areas": null,
       "grid_template_columns": null,
       "grid_template_rows": null,
       "height": null,
       "justify_content": null,
       "justify_items": null,
       "left": null,
       "margin": null,
       "max_height": null,
       "max_width": null,
       "min_height": null,
       "min_width": null,
       "object_fit": null,
       "object_position": null,
       "order": null,
       "overflow": null,
       "overflow_x": null,
       "overflow_y": null,
       "padding": null,
       "right": null,
       "top": null,
       "visibility": null,
       "width": null
      }
     },
     "49d33bba1ead47559589e3c07667ccfc": {
      "model_module": "@jupyter-widgets/controls",
      "model_module_version": "1.5.0",
      "model_name": "HTMLModel",
      "state": {
       "_dom_classes": [],
       "_model_module": "@jupyter-widgets/controls",
       "_model_module_version": "1.5.0",
       "_model_name": "HTMLModel",
       "_view_count": null,
       "_view_module": "@jupyter-widgets/controls",
       "_view_module_version": "1.5.0",
       "_view_name": "HTMLView",
       "description": "",
       "description_tooltip": null,
       "layout": "IPY_MODEL_f1ce3f198a284fb29d64e1b5383b6274",
       "placeholder": "​",
       "style": "IPY_MODEL_a7773c0f439d4449a080dd2dbf1b1ec3",
       "value": " 28.0/28.0 [00:00&lt;00:00, 1.98kB/s]"
      }
     },
     "49fdbf07ca264c598f737cda2c36b71f": {
      "model_module": "@jupyter-widgets/base",
      "model_module_version": "1.2.0",
      "model_name": "LayoutModel",
      "state": {
       "_model_module": "@jupyter-widgets/base",
       "_model_module_version": "1.2.0",
       "_model_name": "LayoutModel",
       "_view_count": null,
       "_view_module": "@jupyter-widgets/base",
       "_view_module_version": "1.2.0",
       "_view_name": "LayoutView",
       "align_content": null,
       "align_items": null,
       "align_self": null,
       "border": null,
       "bottom": null,
       "display": null,
       "flex": null,
       "flex_flow": null,
       "grid_area": null,
       "grid_auto_columns": null,
       "grid_auto_flow": null,
       "grid_auto_rows": null,
       "grid_column": null,
       "grid_gap": null,
       "grid_row": null,
       "grid_template_areas": null,
       "grid_template_columns": null,
       "grid_template_rows": null,
       "height": null,
       "justify_content": null,
       "justify_items": null,
       "left": null,
       "margin": null,
       "max_height": null,
       "max_width": null,
       "min_height": null,
       "min_width": null,
       "object_fit": null,
       "object_position": null,
       "order": null,
       "overflow": null,
       "overflow_x": null,
       "overflow_y": null,
       "padding": null,
       "right": null,
       "top": null,
       "visibility": null,
       "width": null
      }
     },
     "4cbbdec46df744f387f6f72c195789cc": {
      "model_module": "@jupyter-widgets/base",
      "model_module_version": "1.2.0",
      "model_name": "LayoutModel",
      "state": {
       "_model_module": "@jupyter-widgets/base",
       "_model_module_version": "1.2.0",
       "_model_name": "LayoutModel",
       "_view_count": null,
       "_view_module": "@jupyter-widgets/base",
       "_view_module_version": "1.2.0",
       "_view_name": "LayoutView",
       "align_content": null,
       "align_items": null,
       "align_self": null,
       "border": null,
       "bottom": null,
       "display": null,
       "flex": null,
       "flex_flow": null,
       "grid_area": null,
       "grid_auto_columns": null,
       "grid_auto_flow": null,
       "grid_auto_rows": null,
       "grid_column": null,
       "grid_gap": null,
       "grid_row": null,
       "grid_template_areas": null,
       "grid_template_columns": null,
       "grid_template_rows": null,
       "height": null,
       "justify_content": null,
       "justify_items": null,
       "left": null,
       "margin": null,
       "max_height": null,
       "max_width": null,
       "min_height": null,
       "min_width": null,
       "object_fit": null,
       "object_position": null,
       "order": null,
       "overflow": null,
       "overflow_x": null,
       "overflow_y": null,
       "padding": null,
       "right": null,
       "top": null,
       "visibility": null,
       "width": null
      }
     },
     "504d51cc5bf443f583ebe77262266572": {
      "model_module": "@jupyter-widgets/controls",
      "model_module_version": "1.5.0",
      "model_name": "ProgressStyleModel",
      "state": {
       "_model_module": "@jupyter-widgets/controls",
       "_model_module_version": "1.5.0",
       "_model_name": "ProgressStyleModel",
       "_view_count": null,
       "_view_module": "@jupyter-widgets/base",
       "_view_module_version": "1.2.0",
       "_view_name": "StyleView",
       "bar_color": null,
       "description_width": ""
      }
     },
     "55b19e5ba31d43f2922d30498e3a5d48": {
      "model_module": "@jupyter-widgets/base",
      "model_module_version": "1.2.0",
      "model_name": "LayoutModel",
      "state": {
       "_model_module": "@jupyter-widgets/base",
       "_model_module_version": "1.2.0",
       "_model_name": "LayoutModel",
       "_view_count": null,
       "_view_module": "@jupyter-widgets/base",
       "_view_module_version": "1.2.0",
       "_view_name": "LayoutView",
       "align_content": null,
       "align_items": null,
       "align_self": null,
       "border": null,
       "bottom": null,
       "display": null,
       "flex": null,
       "flex_flow": null,
       "grid_area": null,
       "grid_auto_columns": null,
       "grid_auto_flow": null,
       "grid_auto_rows": null,
       "grid_column": null,
       "grid_gap": null,
       "grid_row": null,
       "grid_template_areas": null,
       "grid_template_columns": null,
       "grid_template_rows": null,
       "height": null,
       "justify_content": null,
       "justify_items": null,
       "left": null,
       "margin": null,
       "max_height": null,
       "max_width": null,
       "min_height": null,
       "min_width": null,
       "object_fit": null,
       "object_position": null,
       "order": null,
       "overflow": null,
       "overflow_x": null,
       "overflow_y": null,
       "padding": null,
       "right": null,
       "top": null,
       "visibility": null,
       "width": null
      }
     },
     "58384f8e7cf0473799fc5dd1a7e7d50a": {
      "model_module": "@jupyter-widgets/controls",
      "model_module_version": "1.5.0",
      "model_name": "ProgressStyleModel",
      "state": {
       "_model_module": "@jupyter-widgets/controls",
       "_model_module_version": "1.5.0",
       "_model_name": "ProgressStyleModel",
       "_view_count": null,
       "_view_module": "@jupyter-widgets/base",
       "_view_module_version": "1.2.0",
       "_view_name": "StyleView",
       "bar_color": null,
       "description_width": ""
      }
     },
     "5aa0fc0eaeab43e692acd609c50ac682": {
      "model_module": "@jupyter-widgets/controls",
      "model_module_version": "1.5.0",
      "model_name": "DescriptionStyleModel",
      "state": {
       "_model_module": "@jupyter-widgets/controls",
       "_model_module_version": "1.5.0",
       "_model_name": "DescriptionStyleModel",
       "_view_count": null,
       "_view_module": "@jupyter-widgets/base",
       "_view_module_version": "1.2.0",
       "_view_name": "StyleView",
       "description_width": ""
      }
     },
     "5ab5c953a24f489c9cf391a02a45b008": {
      "model_module": "@jupyter-widgets/controls",
      "model_module_version": "1.5.0",
      "model_name": "HTMLModel",
      "state": {
       "_dom_classes": [],
       "_model_module": "@jupyter-widgets/controls",
       "_model_module_version": "1.5.0",
       "_model_name": "HTMLModel",
       "_view_count": null,
       "_view_module": "@jupyter-widgets/controls",
       "_view_module_version": "1.5.0",
       "_view_name": "HTMLView",
       "description": "",
       "description_tooltip": null,
       "layout": "IPY_MODEL_1c428eb166dc49a59e12104ff4cd39fa",
       "placeholder": "​",
       "style": "IPY_MODEL_65c4d11d721a49cca6bf462d854304fc",
       "value": "Downloading (…)okenizer_config.json: 100%"
      }
     },
     "5af5fd7d078747b78444065b92c317a1": {
      "model_module": "@jupyter-widgets/base",
      "model_module_version": "1.2.0",
      "model_name": "LayoutModel",
      "state": {
       "_model_module": "@jupyter-widgets/base",
       "_model_module_version": "1.2.0",
       "_model_name": "LayoutModel",
       "_view_count": null,
       "_view_module": "@jupyter-widgets/base",
       "_view_module_version": "1.2.0",
       "_view_name": "LayoutView",
       "align_content": null,
       "align_items": null,
       "align_self": null,
       "border": null,
       "bottom": null,
       "display": null,
       "flex": null,
       "flex_flow": null,
       "grid_area": null,
       "grid_auto_columns": null,
       "grid_auto_flow": null,
       "grid_auto_rows": null,
       "grid_column": null,
       "grid_gap": null,
       "grid_row": null,
       "grid_template_areas": null,
       "grid_template_columns": null,
       "grid_template_rows": null,
       "height": null,
       "justify_content": null,
       "justify_items": null,
       "left": null,
       "margin": null,
       "max_height": null,
       "max_width": null,
       "min_height": null,
       "min_width": null,
       "object_fit": null,
       "object_position": null,
       "order": null,
       "overflow": null,
       "overflow_x": null,
       "overflow_y": null,
       "padding": null,
       "right": null,
       "top": null,
       "visibility": null,
       "width": null
      }
     },
     "5fea3ad388e941359a199b5fe23914ec": {
      "model_module": "@jupyter-widgets/controls",
      "model_module_version": "1.5.0",
      "model_name": "HTMLModel",
      "state": {
       "_dom_classes": [],
       "_model_module": "@jupyter-widgets/controls",
       "_model_module_version": "1.5.0",
       "_model_name": "HTMLModel",
       "_view_count": null,
       "_view_module": "@jupyter-widgets/controls",
       "_view_module_version": "1.5.0",
       "_view_name": "HTMLView",
       "description": "",
       "description_tooltip": null,
       "layout": "IPY_MODEL_176836060d51454d9293047ee1f4cfa2",
       "placeholder": "​",
       "style": "IPY_MODEL_a332e77665464456803b065cab27035b",
       "value": "Downloading (…)lve/main/config.json: 100%"
      }
     },
     "65c4d11d721a49cca6bf462d854304fc": {
      "model_module": "@jupyter-widgets/controls",
      "model_module_version": "1.5.0",
      "model_name": "DescriptionStyleModel",
      "state": {
       "_model_module": "@jupyter-widgets/controls",
       "_model_module_version": "1.5.0",
       "_model_name": "DescriptionStyleModel",
       "_view_count": null,
       "_view_module": "@jupyter-widgets/base",
       "_view_module_version": "1.2.0",
       "_view_name": "StyleView",
       "description_width": ""
      }
     },
     "6f3f5c54c076408b85efd7229a30d27a": {
      "model_module": "@jupyter-widgets/controls",
      "model_module_version": "1.5.0",
      "model_name": "FloatProgressModel",
      "state": {
       "_dom_classes": [],
       "_model_module": "@jupyter-widgets/controls",
       "_model_module_version": "1.5.0",
       "_model_name": "FloatProgressModel",
       "_view_count": null,
       "_view_module": "@jupyter-widgets/controls",
       "_view_module_version": "1.5.0",
       "_view_name": "ProgressView",
       "bar_style": "success",
       "description": "",
       "description_tooltip": null,
       "layout": "IPY_MODEL_73916fc18c2e47e2bb2b951415bb477f",
       "max": 28.0,
       "min": 0.0,
       "orientation": "horizontal",
       "style": "IPY_MODEL_843b74507f8c41c99285ac9cdb780ebb",
       "value": 28.0
      }
     },
     "7295547e0c574a2d977e583a5d6ef804": {
      "model_module": "@jupyter-widgets/base",
      "model_module_version": "1.2.0",
      "model_name": "LayoutModel",
      "state": {
       "_model_module": "@jupyter-widgets/base",
       "_model_module_version": "1.2.0",
       "_model_name": "LayoutModel",
       "_view_count": null,
       "_view_module": "@jupyter-widgets/base",
       "_view_module_version": "1.2.0",
       "_view_name": "LayoutView",
       "align_content": null,
       "align_items": null,
       "align_self": null,
       "border": null,
       "bottom": null,
       "display": null,
       "flex": null,
       "flex_flow": null,
       "grid_area": null,
       "grid_auto_columns": null,
       "grid_auto_flow": null,
       "grid_auto_rows": null,
       "grid_column": null,
       "grid_gap": null,
       "grid_row": null,
       "grid_template_areas": null,
       "grid_template_columns": null,
       "grid_template_rows": null,
       "height": null,
       "justify_content": null,
       "justify_items": null,
       "left": null,
       "margin": null,
       "max_height": null,
       "max_width": null,
       "min_height": null,
       "min_width": null,
       "object_fit": null,
       "object_position": null,
       "order": null,
       "overflow": null,
       "overflow_x": null,
       "overflow_y": null,
       "padding": null,
       "right": null,
       "top": null,
       "visibility": null,
       "width": null
      }
     },
     "73916fc18c2e47e2bb2b951415bb477f": {
      "model_module": "@jupyter-widgets/base",
      "model_module_version": "1.2.0",
      "model_name": "LayoutModel",
      "state": {
       "_model_module": "@jupyter-widgets/base",
       "_model_module_version": "1.2.0",
       "_model_name": "LayoutModel",
       "_view_count": null,
       "_view_module": "@jupyter-widgets/base",
       "_view_module_version": "1.2.0",
       "_view_name": "LayoutView",
       "align_content": null,
       "align_items": null,
       "align_self": null,
       "border": null,
       "bottom": null,
       "display": null,
       "flex": null,
       "flex_flow": null,
       "grid_area": null,
       "grid_auto_columns": null,
       "grid_auto_flow": null,
       "grid_auto_rows": null,
       "grid_column": null,
       "grid_gap": null,
       "grid_row": null,
       "grid_template_areas": null,
       "grid_template_columns": null,
       "grid_template_rows": null,
       "height": null,
       "justify_content": null,
       "justify_items": null,
       "left": null,
       "margin": null,
       "max_height": null,
       "max_width": null,
       "min_height": null,
       "min_width": null,
       "object_fit": null,
       "object_position": null,
       "order": null,
       "overflow": null,
       "overflow_x": null,
       "overflow_y": null,
       "padding": null,
       "right": null,
       "top": null,
       "visibility": null,
       "width": null
      }
     },
     "797c08d8366048f7bd41dd4dfb3925a5": {
      "model_module": "@jupyter-widgets/base",
      "model_module_version": "1.2.0",
      "model_name": "LayoutModel",
      "state": {
       "_model_module": "@jupyter-widgets/base",
       "_model_module_version": "1.2.0",
       "_model_name": "LayoutModel",
       "_view_count": null,
       "_view_module": "@jupyter-widgets/base",
       "_view_module_version": "1.2.0",
       "_view_name": "LayoutView",
       "align_content": null,
       "align_items": null,
       "align_self": null,
       "border": null,
       "bottom": null,
       "display": null,
       "flex": null,
       "flex_flow": null,
       "grid_area": null,
       "grid_auto_columns": null,
       "grid_auto_flow": null,
       "grid_auto_rows": null,
       "grid_column": null,
       "grid_gap": null,
       "grid_row": null,
       "grid_template_areas": null,
       "grid_template_columns": null,
       "grid_template_rows": null,
       "height": null,
       "justify_content": null,
       "justify_items": null,
       "left": null,
       "margin": null,
       "max_height": null,
       "max_width": null,
       "min_height": null,
       "min_width": null,
       "object_fit": null,
       "object_position": null,
       "order": null,
       "overflow": null,
       "overflow_x": null,
       "overflow_y": null,
       "padding": null,
       "right": null,
       "top": null,
       "visibility": null,
       "width": null
      }
     },
     "843b74507f8c41c99285ac9cdb780ebb": {
      "model_module": "@jupyter-widgets/controls",
      "model_module_version": "1.5.0",
      "model_name": "ProgressStyleModel",
      "state": {
       "_model_module": "@jupyter-widgets/controls",
       "_model_module_version": "1.5.0",
       "_model_name": "ProgressStyleModel",
       "_view_count": null,
       "_view_module": "@jupyter-widgets/base",
       "_view_module_version": "1.2.0",
       "_view_name": "StyleView",
       "bar_color": null,
       "description_width": ""
      }
     },
     "8500cb5bf82b48968cbafd070e0a3916": {
      "model_module": "@jupyter-widgets/controls",
      "model_module_version": "1.5.0",
      "model_name": "ProgressStyleModel",
      "state": {
       "_model_module": "@jupyter-widgets/controls",
       "_model_module_version": "1.5.0",
       "_model_name": "ProgressStyleModel",
       "_view_count": null,
       "_view_module": "@jupyter-widgets/base",
       "_view_module_version": "1.2.0",
       "_view_name": "StyleView",
       "bar_color": null,
       "description_width": ""
      }
     },
     "89ed5abcacff40c1b2372a000ae54aa2": {
      "model_module": "@jupyter-widgets/controls",
      "model_module_version": "1.5.0",
      "model_name": "DescriptionStyleModel",
      "state": {
       "_model_module": "@jupyter-widgets/controls",
       "_model_module_version": "1.5.0",
       "_model_name": "DescriptionStyleModel",
       "_view_count": null,
       "_view_module": "@jupyter-widgets/base",
       "_view_module_version": "1.2.0",
       "_view_name": "StyleView",
       "description_width": ""
      }
     },
     "8ac290af84c54727a84a19f8cfec3584": {
      "model_module": "@jupyter-widgets/controls",
      "model_module_version": "1.5.0",
      "model_name": "FloatProgressModel",
      "state": {
       "_dom_classes": [],
       "_model_module": "@jupyter-widgets/controls",
       "_model_module_version": "1.5.0",
       "_model_name": "FloatProgressModel",
       "_view_count": null,
       "_view_module": "@jupyter-widgets/controls",
       "_view_module_version": "1.5.0",
       "_view_name": "ProgressView",
       "bar_style": "success",
       "description": "",
       "description_tooltip": null,
       "layout": "IPY_MODEL_4cbbdec46df744f387f6f72c195789cc",
       "max": 570.0,
       "min": 0.0,
       "orientation": "horizontal",
       "style": "IPY_MODEL_504d51cc5bf443f583ebe77262266572",
       "value": 570.0
      }
     },
     "973c0970a9994e5a890a0d0b5096952f": {
      "model_module": "@jupyter-widgets/controls",
      "model_module_version": "1.5.0",
      "model_name": "DescriptionStyleModel",
      "state": {
       "_model_module": "@jupyter-widgets/controls",
       "_model_module_version": "1.5.0",
       "_model_name": "DescriptionStyleModel",
       "_view_count": null,
       "_view_module": "@jupyter-widgets/base",
       "_view_module_version": "1.2.0",
       "_view_name": "StyleView",
       "description_width": ""
      }
     },
     "9fffb0f1d6f2463dbd57f9399c7adbe8": {
      "model_module": "@jupyter-widgets/controls",
      "model_module_version": "1.5.0",
      "model_name": "FloatProgressModel",
      "state": {
       "_dom_classes": [],
       "_model_module": "@jupyter-widgets/controls",
       "_model_module_version": "1.5.0",
       "_model_name": "FloatProgressModel",
       "_view_count": null,
       "_view_module": "@jupyter-widgets/controls",
       "_view_module_version": "1.5.0",
       "_view_name": "ProgressView",
       "bar_style": "success",
       "description": "",
       "description_tooltip": null,
       "layout": "IPY_MODEL_55b19e5ba31d43f2922d30498e3a5d48",
       "max": 231508.0,
       "min": 0.0,
       "orientation": "horizontal",
       "style": "IPY_MODEL_8500cb5bf82b48968cbafd070e0a3916",
       "value": 231508.0
      }
     },
     "a332e77665464456803b065cab27035b": {
      "model_module": "@jupyter-widgets/controls",
      "model_module_version": "1.5.0",
      "model_name": "DescriptionStyleModel",
      "state": {
       "_model_module": "@jupyter-widgets/controls",
       "_model_module_version": "1.5.0",
       "_model_name": "DescriptionStyleModel",
       "_view_count": null,
       "_view_module": "@jupyter-widgets/base",
       "_view_module_version": "1.2.0",
       "_view_name": "StyleView",
       "description_width": ""
      }
     },
     "a7773c0f439d4449a080dd2dbf1b1ec3": {
      "model_module": "@jupyter-widgets/controls",
      "model_module_version": "1.5.0",
      "model_name": "DescriptionStyleModel",
      "state": {
       "_model_module": "@jupyter-widgets/controls",
       "_model_module_version": "1.5.0",
       "_model_name": "DescriptionStyleModel",
       "_view_count": null,
       "_view_module": "@jupyter-widgets/base",
       "_view_module_version": "1.2.0",
       "_view_name": "StyleView",
       "description_width": ""
      }
     },
     "a83060bafb1c4cd18b3299ebf89ed843": {
      "model_module": "@jupyter-widgets/controls",
      "model_module_version": "1.5.0",
      "model_name": "HBoxModel",
      "state": {
       "_dom_classes": [],
       "_model_module": "@jupyter-widgets/controls",
       "_model_module_version": "1.5.0",
       "_model_name": "HBoxModel",
       "_view_count": null,
       "_view_module": "@jupyter-widgets/controls",
       "_view_module_version": "1.5.0",
       "_view_name": "HBoxView",
       "box_style": "",
       "children": [
        "IPY_MODEL_5fea3ad388e941359a199b5fe23914ec",
        "IPY_MODEL_8ac290af84c54727a84a19f8cfec3584",
        "IPY_MODEL_012cf012b6724b94a0dca87f8e22618e"
       ],
       "layout": "IPY_MODEL_49fdbf07ca264c598f737cda2c36b71f"
      }
     },
     "ad7a1885c67d4ccb9ef337d71af0b367": {
      "model_module": "@jupyter-widgets/controls",
      "model_module_version": "1.5.0",
      "model_name": "HBoxModel",
      "state": {
       "_dom_classes": [],
       "_model_module": "@jupyter-widgets/controls",
       "_model_module_version": "1.5.0",
       "_model_name": "HBoxModel",
       "_view_count": null,
       "_view_module": "@jupyter-widgets/controls",
       "_view_module_version": "1.5.0",
       "_view_name": "HBoxView",
       "box_style": "",
       "children": [
        "IPY_MODEL_161da068eefc47d98aa474a1e498290a",
        "IPY_MODEL_9fffb0f1d6f2463dbd57f9399c7adbe8",
        "IPY_MODEL_e9d8be8da03d47e981be16b76d9cb7b1"
       ],
       "layout": "IPY_MODEL_797c08d8366048f7bd41dd4dfb3925a5"
      }
     },
     "b2af2973f722471b87301b966ed75dc4": {
      "model_module": "@jupyter-widgets/controls",
      "model_module_version": "1.5.0",
      "model_name": "HBoxModel",
      "state": {
       "_dom_classes": [],
       "_model_module": "@jupyter-widgets/controls",
       "_model_module_version": "1.5.0",
       "_model_name": "HBoxModel",
       "_view_count": null,
       "_view_module": "@jupyter-widgets/controls",
       "_view_module_version": "1.5.0",
       "_view_name": "HBoxView",
       "box_style": "",
       "children": [
        "IPY_MODEL_3813e0c430264820a7a69a73d73dcdb9",
        "IPY_MODEL_081102cd2b5e491984a8385911aae193",
        "IPY_MODEL_1768aa9f440946aa884d4fe8c85885b4"
       ],
       "layout": "IPY_MODEL_7295547e0c574a2d977e583a5d6ef804"
      }
     },
     "b63a96bb75dd45fcad6d483f9d4981fc": {
      "model_module": "@jupyter-widgets/base",
      "model_module_version": "1.2.0",
      "model_name": "LayoutModel",
      "state": {
       "_model_module": "@jupyter-widgets/base",
       "_model_module_version": "1.2.0",
       "_model_name": "LayoutModel",
       "_view_count": null,
       "_view_module": "@jupyter-widgets/base",
       "_view_module_version": "1.2.0",
       "_view_name": "LayoutView",
       "align_content": null,
       "align_items": null,
       "align_self": null,
       "border": null,
       "bottom": null,
       "display": null,
       "flex": null,
       "flex_flow": null,
       "grid_area": null,
       "grid_auto_columns": null,
       "grid_auto_flow": null,
       "grid_auto_rows": null,
       "grid_column": null,
       "grid_gap": null,
       "grid_row": null,
       "grid_template_areas": null,
       "grid_template_columns": null,
       "grid_template_rows": null,
       "height": null,
       "justify_content": null,
       "justify_items": null,
       "left": null,
       "margin": null,
       "max_height": null,
       "max_width": null,
       "min_height": null,
       "min_width": null,
       "object_fit": null,
       "object_position": null,
       "order": null,
       "overflow": null,
       "overflow_x": null,
       "overflow_y": null,
       "padding": null,
       "right": null,
       "top": null,
       "visibility": null,
       "width": null
      }
     },
     "bc1d176a6cc14d1783dd74bd2bea8a31": {
      "model_module": "@jupyter-widgets/base",
      "model_module_version": "1.2.0",
      "model_name": "LayoutModel",
      "state": {
       "_model_module": "@jupyter-widgets/base",
       "_model_module_version": "1.2.0",
       "_model_name": "LayoutModel",
       "_view_count": null,
       "_view_module": "@jupyter-widgets/base",
       "_view_module_version": "1.2.0",
       "_view_name": "LayoutView",
       "align_content": null,
       "align_items": null,
       "align_self": null,
       "border": null,
       "bottom": null,
       "display": null,
       "flex": null,
       "flex_flow": null,
       "grid_area": null,
       "grid_auto_columns": null,
       "grid_auto_flow": null,
       "grid_auto_rows": null,
       "grid_column": null,
       "grid_gap": null,
       "grid_row": null,
       "grid_template_areas": null,
       "grid_template_columns": null,
       "grid_template_rows": null,
       "height": null,
       "justify_content": null,
       "justify_items": null,
       "left": null,
       "margin": null,
       "max_height": null,
       "max_width": null,
       "min_height": null,
       "min_width": null,
       "object_fit": null,
       "object_position": null,
       "order": null,
       "overflow": null,
       "overflow_x": null,
       "overflow_y": null,
       "padding": null,
       "right": null,
       "top": null,
       "visibility": null,
       "width": null
      }
     },
     "c70684fabafa425e8e1f7563e6155cc6": {
      "model_module": "@jupyter-widgets/controls",
      "model_module_version": "1.5.0",
      "model_name": "DescriptionStyleModel",
      "state": {
       "_model_module": "@jupyter-widgets/controls",
       "_model_module_version": "1.5.0",
       "_model_name": "DescriptionStyleModel",
       "_view_count": null,
       "_view_module": "@jupyter-widgets/base",
       "_view_module_version": "1.2.0",
       "_view_name": "StyleView",
       "description_width": ""
      }
     },
     "d457bef6483c497eb8f282ffac6505e8": {
      "model_module": "@jupyter-widgets/base",
      "model_module_version": "1.2.0",
      "model_name": "LayoutModel",
      "state": {
       "_model_module": "@jupyter-widgets/base",
       "_model_module_version": "1.2.0",
       "_model_name": "LayoutModel",
       "_view_count": null,
       "_view_module": "@jupyter-widgets/base",
       "_view_module_version": "1.2.0",
       "_view_name": "LayoutView",
       "align_content": null,
       "align_items": null,
       "align_self": null,
       "border": null,
       "bottom": null,
       "display": null,
       "flex": null,
       "flex_flow": null,
       "grid_area": null,
       "grid_auto_columns": null,
       "grid_auto_flow": null,
       "grid_auto_rows": null,
       "grid_column": null,
       "grid_gap": null,
       "grid_row": null,
       "grid_template_areas": null,
       "grid_template_columns": null,
       "grid_template_rows": null,
       "height": null,
       "justify_content": null,
       "justify_items": null,
       "left": null,
       "margin": null,
       "max_height": null,
       "max_width": null,
       "min_height": null,
       "min_width": null,
       "object_fit": null,
       "object_position": null,
       "order": null,
       "overflow": null,
       "overflow_x": null,
       "overflow_y": null,
       "padding": null,
       "right": null,
       "top": null,
       "visibility": null,
       "width": null
      }
     },
     "d9b2bc12de974c4ca36716800199becc": {
      "model_module": "@jupyter-widgets/controls",
      "model_module_version": "1.5.0",
      "model_name": "HBoxModel",
      "state": {
       "_dom_classes": [],
       "_model_module": "@jupyter-widgets/controls",
       "_model_module_version": "1.5.0",
       "_model_name": "HBoxModel",
       "_view_count": null,
       "_view_module": "@jupyter-widgets/controls",
       "_view_module_version": "1.5.0",
       "_view_name": "HBoxView",
       "box_style": "",
       "children": [
        "IPY_MODEL_5ab5c953a24f489c9cf391a02a45b008",
        "IPY_MODEL_6f3f5c54c076408b85efd7229a30d27a",
        "IPY_MODEL_49d33bba1ead47559589e3c07667ccfc"
       ],
       "layout": "IPY_MODEL_2bf45f99de9e4ca0916b0683fbc19763"
      }
     },
     "e9d8be8da03d47e981be16b76d9cb7b1": {
      "model_module": "@jupyter-widgets/controls",
      "model_module_version": "1.5.0",
      "model_name": "HTMLModel",
      "state": {
       "_dom_classes": [],
       "_model_module": "@jupyter-widgets/controls",
       "_model_module_version": "1.5.0",
       "_model_name": "HTMLModel",
       "_view_count": null,
       "_view_module": "@jupyter-widgets/controls",
       "_view_module_version": "1.5.0",
       "_view_name": "HTMLView",
       "description": "",
       "description_tooltip": null,
       "layout": "IPY_MODEL_5af5fd7d078747b78444065b92c317a1",
       "placeholder": "​",
       "style": "IPY_MODEL_09e3a419d58b4a3ca1cbfd30eede3b31",
       "value": " 232k/232k [00:00&lt;00:00, 8.53MB/s]"
      }
     },
     "f1ce3f198a284fb29d64e1b5383b6274": {
      "model_module": "@jupyter-widgets/base",
      "model_module_version": "1.2.0",
      "model_name": "LayoutModel",
      "state": {
       "_model_module": "@jupyter-widgets/base",
       "_model_module_version": "1.2.0",
       "_model_name": "LayoutModel",
       "_view_count": null,
       "_view_module": "@jupyter-widgets/base",
       "_view_module_version": "1.2.0",
       "_view_name": "LayoutView",
       "align_content": null,
       "align_items": null,
       "align_self": null,
       "border": null,
       "bottom": null,
       "display": null,
       "flex": null,
       "flex_flow": null,
       "grid_area": null,
       "grid_auto_columns": null,
       "grid_auto_flow": null,
       "grid_auto_rows": null,
       "grid_column": null,
       "grid_gap": null,
       "grid_row": null,
       "grid_template_areas": null,
       "grid_template_columns": null,
       "grid_template_rows": null,
       "height": null,
       "justify_content": null,
       "justify_items": null,
       "left": null,
       "margin": null,
       "max_height": null,
       "max_width": null,
       "min_height": null,
       "min_width": null,
       "object_fit": null,
       "object_position": null,
       "order": null,
       "overflow": null,
       "overflow_x": null,
       "overflow_y": null,
       "padding": null,
       "right": null,
       "top": null,
       "visibility": null,
       "width": null
      }
     }
    },
    "version_major": 2,
    "version_minor": 0
   }
  }
 },
 "nbformat": 4,
 "nbformat_minor": 5
}
